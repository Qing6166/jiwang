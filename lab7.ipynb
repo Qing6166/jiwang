{
 "cells": [
  {
   "cell_type": "code",
   "execution_count": 5,
   "id": "9d036682",
   "metadata": {
    "scrolled": true
   },
   "outputs": [
    {
     "name": "stdout",
     "output_type": "stream",
     "text": [
      "Source IP: 10.25.64.142\n",
      "Destination IP: 172.18.1.93\n",
      "Source Port: 49664\n",
      "Destination Port: 53\n",
      "UDP Length: 43\n",
      "Checksum Field: 0x23f3\n",
      "Calculated Checksum: 0x23f3\n",
      "Checksum Match: Yes\n",
      "sum3 0xdc0c\n"
     ]
    }
   ],
   "source": [
    "import binascii\n",
    "import socket\n",
    "import struct\n",
    "\n",
    "def main():\n",
    "    # Sample IPv4 hex dump (replace this with your actual hex dump)\n",
    "    ipv4_hex_dump = \"4500003f960200008011ac950a19408eac12015dc2000035002b23f3c7c80100000100000000000002626207737573746563680365647502636e0000010001\"\n",
    "\n",
    "    # Decode the hex dump into binary\n",
    "    ipv4_packet_data = binascii.unhexlify(ipv4_hex_dump)\n",
    "\n",
    "    # Extract IP and UDP header\n",
    "    ip_header = ipv4_packet_data[:20]\n",
    "    udp_header = ipv4_packet_data[20:28]\n",
    "    data = ipv4_packet_data[28:]\n",
    "\n",
    "    # Extract source and destination IP addresses\n",
    "    src_ip = struct.unpack('!L', ip_header[12:16])[0]\n",
    "    dst_ip = struct.unpack('!L', ip_header[16:20])[0]\n",
    "\n",
    "#     print(src_ip)\n",
    "#     print(dst_ip)\n",
    "\n",
    "    # 将剩余数据转换为16位形式并相加\n",
    "    sum_remaining_data = 0\n",
    "    if len(data) % 2 != 0:\n",
    "        data += b'\\x00'\n",
    "    for i in range(0, len(data), 2):\n",
    "        sum_remaining_data += int.from_bytes(data[i:i+2], byteorder='big')\n",
    "#         print(hex(int.from_bytes(data[i:i+2], byteorder='big')))\n",
    "\n",
    "    # Extract UDP header fields\n",
    "    src_port, dst_port, udp_len, checksum_field = struct.unpack('!HHHH', udp_header)\n",
    "    \n",
    "#     src_ip=0x7f000001\n",
    "#     dst_ip=0x7f000001\n",
    "#     udp_len=0x0009\n",
    "#     src_port=0xca5a\n",
    "#     dst_port=0x04b0\n",
    "#     checksum_field=0x0000\n",
    "    # Calculate checksum\n",
    "#     print(hex(src_ip>>16),hex(src_ip & 0xFFFF),hex(dst_ip >> 16),hex(dst_ip & 0xFFFF),hex(udp_len))\n",
    "    sum1 = (src_ip >> 16) + (src_ip & 0xFFFF) + (dst_ip >> 16) + (dst_ip & 0xFFFF) + 0x0011 + udp_len + src_port + dst_port + 0x0000 + udp_len + sum_remaining_data\n",
    "    sum2 = (sum1 & 0xFFFF) + (sum1 >> 16)\n",
    "    sum3 = (sum2 & 0xFFFF) + (sum2 >> 16)\n",
    "    # 计算checksum\n",
    "    checksum = ~sum3 & 0xFFFF\n",
    "\n",
    "\n",
    "    # Print information\n",
    "    print(\"Source IP:\", socket.inet_ntoa(ip_header[12:16]))\n",
    "    print(\"Destination IP:\", socket.inet_ntoa(ip_header[16:20]))\n",
    "    print(\"Source Port:\", src_port)\n",
    "    print(\"Destination Port:\", dst_port)\n",
    "    print(\"UDP Length:\", udp_len)\n",
    "    print(\"Checksum Field:\", hex(checksum_field))\n",
    "    print(\"Calculated Checksum:\", hex(checksum))\n",
    "    print(\"Checksum Match:\", \"Yes\" if checksum == checksum_field else \"No\")\n",
    "#     print(\"sum3\",hex(sum3))\n",
    "\n",
    "if __name__ == \"__main__\":\n",
    "    main()\n"
   ]
  },
  {
   "cell_type": "code",
   "execution_count": 4,
   "id": "c2e31690",
   "metadata": {},
   "outputs": [],
   "source": [
    "src_ip=0x7f000001"
   ]
  }
 ],
 "metadata": {
  "kernelspec": {
   "display_name": "Python 3 (ipykernel)",
   "language": "python",
   "name": "python3"
  },
  "language_info": {
   "codemirror_mode": {
    "name": "ipython",
    "version": 3
   },
   "file_extension": ".py",
   "mimetype": "text/x-python",
   "name": "python",
   "nbconvert_exporter": "python",
   "pygments_lexer": "ipython3",
   "version": "3.9.13"
  }
 },
 "nbformat": 4,
 "nbformat_minor": 5
}
